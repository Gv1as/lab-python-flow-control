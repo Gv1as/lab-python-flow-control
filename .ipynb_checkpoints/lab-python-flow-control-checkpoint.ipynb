{
 "cells": [
  {
   "cell_type": "markdown",
   "id": "d3bfc191-8885-42ee-b0a0-bbab867c6f9f",
   "metadata": {
    "tags": []
   },
   "source": [
    "# Lab | Flow Control"
   ]
  },
  {
   "cell_type": "markdown",
   "id": "3851fcd1-cf98-4653-9c89-e003b7ec9400",
   "metadata": {},
   "source": [
    "## Exercise: Managing Customer Orders Optimized\n",
    "\n",
    "In the last lab, you were starting an online store that sells various products. To ensure smooth operations, you developed a program that manages customer orders and inventory.\n",
    "\n",
    "You did so without using flow control. Let's go a step further and improve this code.\n",
    "\n",
    "Follow the steps below to complete the exercise:\n",
    "\n",
    "1. Look at your code from the lab data structures, and improve repeated code with loops.\n",
    "\n",
    "2. Instead of asking the user to input the name of three products that a customer wants to order, do the following:\n",
    "    \n",
    "    a. Prompt the user to enter the name of a product that a customer wants to order.\n",
    "    \n",
    "    b. Add the product name to the \"customer_orders\" set.\n",
    "    \n",
    "    c. Ask the user if they want to add another product (yes/no).\n",
    "    \n",
    "    d. Continue the loop until the user does not want to add another product.\n",
    "\n",
    "3. Instead of updating the inventory by subtracting 1 from the quantity of each product, only do it for  the products that were ordered (those in \"customer_orders\")."
   ]
  },
  {
   "cell_type": "code",
   "execution_count": 1,
   "id": "6242782d-b4d2-44b0-9844-f5c57a1dc952",
   "metadata": {},
   "outputs": [],
   "source": [
    "products = [\"t-shirt\", \"mug\", \"hat\", \"book\", \"keychain\"]\n",
    "inventory = {}"
   ]
  },
  {
   "cell_type": "code",
   "execution_count": 2,
   "id": "768bbdae-c214-4354-8301-063e3d43dbe7",
   "metadata": {},
   "outputs": [
    {
     "name": "stdin",
     "output_type": "stream",
     "text": [
      "Please enter te inventory of t-shirt 5\n",
      "Please enter te inventory of mug 5\n",
      "Please enter te inventory of hat 5\n",
      "Please enter te inventory of book 5\n",
      "Please enter te inventory of keychain 5\n"
     ]
    },
    {
     "data": {
      "text/plain": [
       "{'t-shirt': 5, 'mug': 5, 'hat': 5, 'book': 5, 'keychain': 5}"
      ]
     },
     "execution_count": 2,
     "metadata": {},
     "output_type": "execute_result"
    }
   ],
   "source": [
    "for i in range(0, len(products)):\n",
    "\n",
    "    quantity = input(f\"Please enter te inventory of {products[i]:}\")\n",
    "    check = True\n",
    "    \n",
    "    while check == True:\n",
    "        try:\n",
    "            quantity = int(quantity)\n",
    "            check = False\n",
    "            \n",
    "        except:\n",
    "            quantity = input(\"Please enter a number for \")\n",
    "\n",
    "    inventory[products[i]] = quantity\n",
    "inventory"
   ]
  },
  {
   "cell_type": "code",
   "execution_count": 3,
   "id": "91abaabd-0cb5-451d-ab08-9123dabb6ba4",
   "metadata": {},
   "outputs": [
    {
     "name": "stdin",
     "output_type": "stream",
     "text": [
      "Would you like to order? yes / no yes\n",
      "What would you like to order? hat\n",
      "Would you like to order? yes / no yes\n",
      "What would you like to order? keychain\n",
      "Would you like to order? yes / no no\n"
     ]
    },
    {
     "name": "stdout",
     "output_type": "stream",
     "text": [
      "Thank you for your order\n",
      "{'hat', 'keychain'}\n",
      "Order statistics:\n",
      "Total Different Products Ordered: 2 \n",
      "Percentage of Products Ordered:0.4\n",
      "t-shirt 5\n",
      "mug 5\n",
      "hat 4\n",
      "book 5\n",
      "keychain 4\n"
     ]
    }
   ],
   "source": [
    "customer_orders = set()\n",
    "customer_quantity = []\n",
    "new_inventory = {}\n",
    "for key, value in inventory.items():\n",
    "    new_inventory[key] = value\n",
    "    \n",
    "\n",
    "x = False\n",
    "while x == False:\n",
    "    order_decision = input(\"Would you like to order? yes / no\")\n",
    "    decision_check = False\n",
    "    while decision_check == False:\n",
    "        if order_decision == \"yes\" or order_decision == \"no\":\n",
    "            decision_check = True\n",
    "        else:\n",
    "            order_decision = input(\"Please enter yes or no\")\n",
    "        \n",
    "        \n",
    "    if order_decision == \"yes\":\n",
    "            customer_order = input(\"What would you like to order?\")\n",
    "            check_product = False\n",
    "            \n",
    "            while check_product == False:\n",
    "                if customer_order in products:\n",
    "                        customer_orders.add(customer_order)\n",
    "                        customer_choice = customer_order\n",
    "                        new_inventory[customer_choice] -= 1\n",
    "                    \n",
    "                        check_product = True\n",
    "                else:\n",
    "                    customer_order = input(f\"Please pick an item we have in inventory\")\n",
    "        \n",
    "    else:\n",
    "        print(\"Thank you for your order\")\n",
    "        x = True\n",
    "        \n",
    "\n",
    "        \n",
    "print(customer_orders)\n",
    "diff_prods = len(customer_orders)\n",
    "perc_prods = len(customer_orders) / len(products)\n",
    "\n",
    "order_status = (diff_prods, perc_prods)\n",
    "\n",
    "print(f\"Order statistics:\\nTotal Different Products Ordered: {diff_prods} \\nPercentage of Products Ordered:{perc_prods}\")\n",
    "for key, value in new_inventory.items():\n",
    "    print(key, value)"
   ]
  },
  {
   "cell_type": "code",
   "execution_count": null,
   "id": "337f6d4a-fb13-4778-884c-ab82997f3f8b",
   "metadata": {},
   "outputs": [],
   "source": []
  }
 ],
 "metadata": {
  "kernelspec": {
   "display_name": "Python 3 (ipykernel)",
   "language": "python",
   "name": "python3"
  },
  "language_info": {
   "codemirror_mode": {
    "name": "ipython",
    "version": 3
   },
   "file_extension": ".py",
   "mimetype": "text/x-python",
   "name": "python",
   "nbconvert_exporter": "python",
   "pygments_lexer": "ipython3",
   "version": "3.8.18"
  }
 },
 "nbformat": 4,
 "nbformat_minor": 5
}
